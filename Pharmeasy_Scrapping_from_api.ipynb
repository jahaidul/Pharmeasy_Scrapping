{
 "cells": [
  {
   "cell_type": "code",
   "execution_count": null,
   "id": "c44553c8-454d-425b-bad3-775ec25c1049",
   "metadata": {},
   "outputs": [],
   "source": [
    "import requests"
   ]
  },
  {
   "cell_type": "code",
   "execution_count": null,
   "id": "0d84e3e6-2fda-40c0-86aa-9ec8fb008734",
   "metadata": {},
   "outputs": [],
   "source": [
    "import json"
   ]
  },
  {
   "cell_type": "code",
   "execution_count": null,
   "id": "997ec53e-d9a1-4106-b221-eeb6b2a48032",
   "metadata": {},
   "outputs": [],
   "source": [
    "url = 'https://pharmeasy.in/api/otc/getCategoryProducts?categoryId=838&page=4'"
   ]
  },
  {
   "cell_type": "code",
   "execution_count": null,
   "id": "293000c1-689d-41e5-9378-1f645e1a4372",
   "metadata": {},
   "outputs": [],
   "source": [
    "req = requests.get(url)"
   ]
  },
  {
   "cell_type": "code",
   "execution_count": null,
   "id": "10817bd2-86eb-4c6c-bc3d-380fb30bd1d9",
   "metadata": {},
   "outputs": [],
   "source": [
    "req.status_code"
   ]
  },
  {
   "cell_type": "code",
   "execution_count": null,
   "id": "3ae50c9d-f4e6-4c23-abcb-30ff9d3c19f2",
   "metadata": {},
   "outputs": [],
   "source": [
    "js = req.json()"
   ]
  },
  {
   "cell_type": "code",
   "execution_count": null,
   "id": "cc3e00e1-0b66-4494-86a6-6dae43f42a40",
   "metadata": {},
   "outputs": [],
   "source": [
    "js.keys()"
   ]
  },
  {
   "cell_type": "code",
   "execution_count": null,
   "id": "8fc50472-94ea-46e5-921f-7aaf5a0612c8",
   "metadata": {},
   "outputs": [],
   "source": [
    "js['data'].keys()"
   ]
  },
  {
   "cell_type": "code",
   "execution_count": null,
   "id": "5ba8df2a-0154-46ef-8035-92aee86f2d4a",
   "metadata": {},
   "outputs": [],
   "source": [
    "js['data']['products'][0].keys()"
   ]
  },
  {
   "cell_type": "code",
   "execution_count": null,
   "id": "53a1715a-cd42-4a07-8ce1-e5b0f7f410c7",
   "metadata": {},
   "outputs": [],
   "source": [
    "name = js['data']['products'][0]['name']\n",
    "name"
   ]
  },
  {
   "cell_type": "code",
   "execution_count": null,
   "id": "3a4692ba-2dba-4aaa-b9c9-cd0ff86f2bd5",
   "metadata": {},
   "outputs": [],
   "source": [
    "brand = js['data']['products'][0]['manufacturer']\n",
    "brand"
   ]
  },
  {
   "cell_type": "code",
   "execution_count": null,
   "id": "f1182d63-4e78-430b-9fa3-c85eb623e5a8",
   "metadata": {},
   "outputs": [],
   "source": [
    "mrpDecimal = js['data']['products'][0]['mrpDecimal']\n",
    "mrpDecimal"
   ]
  },
  {
   "cell_type": "code",
   "execution_count": null,
   "id": "7b33e462-91a0-48ad-bcb8-650afe98902a",
   "metadata": {},
   "outputs": [],
   "source": [
    "salePriceDecimal = js['data']['products'][0]['salePriceDecimal']\n",
    "salePriceDecimal"
   ]
  },
  {
   "cell_type": "code",
   "execution_count": null,
   "id": "0ff3e7d5-9333-41b5-ac7f-ffbac519cfb4",
   "metadata": {},
   "outputs": [],
   "source": [
    "ratingDetails = js['data']['products'][0]['ratingDetails']\n",
    "ratingDetails"
   ]
  },
  {
   "cell_type": "code",
   "execution_count": null,
   "id": "51e70647-6f2a-4297-a934-a20e218ffe70",
   "metadata": {},
   "outputs": [],
   "source": [
    "images = js['data']['products'][0]['images'][0]\n",
    "images"
   ]
  },
  {
   "cell_type": "code",
   "execution_count": null,
   "id": "013bf178-1a2e-482a-8ab8-13fda6f1102b",
   "metadata": {},
   "outputs": [],
   "source": [
    "for i in range(20):\n",
    "    d = {\n",
    "        'name': js['data']['products'][i]['name'],\n",
    "        'brand' : js['data']['products'][i]['manufacturer'],\n",
    "        'mrpDecimal' : js['data']['products'][i]['mrpDecimal'],\n",
    "        'salePriceDecimal' : js['data']['products'][i]['salePriceDecimal'],\n",
    "        'ratingDetails' : js['data']['products'][i]['ratingDetails'],\n",
    "        'images' : js['data']['products'][i]['images'][0],\n",
    "        \n",
    "    }\n",
    "    print(d)"
   ]
  },
  {
   "cell_type": "code",
   "execution_count": null,
   "id": "b425f421-d529-4b1e-b851-be9d337a38e9",
   "metadata": {},
   "outputs": [],
   "source": [
    "data = []\n",
    "for p in range(1,85):\n",
    "    url = f'https://pharmeasy.in/api/otc/getCategoryProducts?categoryId=838&page={p}'\n",
    "    req = requests.get(url)\n",
    "    js = req.json()\n",
    "    for i in range(20):\n",
    "        d = {\n",
    "        'name': js['data']['products'][i]['name'],\n",
    "        'brand' : js['data']['products'][i]['manufacturer'],\n",
    "        'mrpDecimal' : js['data']['products'][i]['mrpDecimal'],\n",
    "        'salePriceDecimal' : js['data']['products'][i]['salePriceDecimal'],\n",
    "        'ratingDetails' : js['data']['products'][i]['ratingDetails'],\n",
    "        \n",
    "\n",
    "        }\n",
    "    print(d)\n",
    "    data.append(d)"
   ]
  },
  {
   "cell_type": "code",
   "execution_count": null,
   "id": "6b44e52d-1f7c-416c-aaaf-eb7b2a663e9f",
   "metadata": {},
   "outputs": [],
   "source": [
    "import pandas as pd\n",
    "df = pd.DataFrame(data)"
   ]
  },
  {
   "cell_type": "code",
   "execution_count": null,
   "id": "112099ff-40e7-4e12-bdfc-7ab5ee6c003c",
   "metadata": {},
   "outputs": [],
   "source": [
    "df"
   ]
  },
  {
   "cell_type": "code",
   "execution_count": null,
   "id": "9a1fab4c-d516-4d08-8e66-4862517f5cef",
   "metadata": {},
   "outputs": [],
   "source": [
    "df.to_csv('Pharmeasy_Scraping.csv')"
   ]
  },
  {
   "cell_type": "code",
   "execution_count": null,
   "id": "50298e4c-c04c-43e6-bd7d-e5833fb078d8",
   "metadata": {},
   "outputs": [],
   "source": []
  }
 ],
 "metadata": {
  "kernelspec": {
   "display_name": "Python 3 (ipykernel)",
   "language": "python",
   "name": "python3"
  },
  "language_info": {
   "codemirror_mode": {
    "name": "ipython",
    "version": 3
   },
   "file_extension": ".py",
   "mimetype": "text/x-python",
   "name": "python",
   "nbconvert_exporter": "python",
   "pygments_lexer": "ipython3",
   "version": "3.10.6"
  }
 },
 "nbformat": 4,
 "nbformat_minor": 5
}
